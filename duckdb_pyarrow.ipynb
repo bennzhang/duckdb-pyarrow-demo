{
 "cells": [
  {
   "cell_type": "markdown",
   "id": "fb13cf18-9d7d-4234-ab02-936a9a72d707",
   "metadata": {},
   "source": [
    "This is just a demo how duckdb work together with pyarrow or pandas\n",
    "\n",
    "Sample datasets from https://github.com/streamlit/demo-uber-nyc-pickups and s3://voltrondata-labs-datasets/nyc-taxi/\n",
    "\n",
    "For Performance related discussion, check: \n",
    "https://tech.gerardbentley.com/python/data/intermediate/2022/04/26/holy-duck.html"
   ]
  },
  {
   "cell_type": "code",
   "execution_count": null,
   "id": "143a4ab6-0dde-4336-b0f1-e66bc4861216",
   "metadata": {},
   "outputs": [],
   "source": [
    "# !pip install duckdb\n",
    "# !pip install pyarrow\n",
    "# !pip install pandas"
   ]
  },
  {
   "cell_type": "code",
   "execution_count": 1,
   "id": "55c309d8-347b-41a4-9a1d-9b6a2687e196",
   "metadata": {},
   "outputs": [],
   "source": [
    "import duckdb\n",
    "import pyarrow as pa\n",
    "import pyarrow.dataset as ds\n",
    "import pyarrow.parquet as pq\n",
    "from pyarrow import csv\n",
    "import pandas as pd"
   ]
  },
  {
   "cell_type": "code",
   "execution_count": 83,
   "id": "e7ac79e4-5a02-4297-907f-0b723db85bca",
   "metadata": {},
   "outputs": [
    {
     "data": {
      "text/plain": [
       "('0.8.1', '13.0.0', '2.1.0')"
      ]
     },
     "execution_count": 83,
     "metadata": {},
     "output_type": "execute_result"
    }
   ],
   "source": [
    "duckdb.__version__, pa.__version__,pd.__version__"
   ]
  },
  {
   "cell_type": "markdown",
   "id": "6da6e71c-59d0-4926-833a-c04d342f607d",
   "metadata": {},
   "source": [
    "# pyarrow"
   ]
  },
  {
   "cell_type": "markdown",
   "id": "f94cf99d-cfe0-4229-9346-ebc831bccf10",
   "metadata": {},
   "source": [
    "## Read\n",
    "\n",
    "Ref  - https://arrow.apache.org/docs/python/generated/pyarrow.Table.html"
   ]
  },
  {
   "cell_type": "code",
   "execution_count": 54,
   "id": "2791b122-9913-4246-b4e2-e3e7736d54df",
   "metadata": {},
   "outputs": [
    {
     "data": {
      "text/plain": [
       "date_time: timestamp[s]\n",
       "lat: double\n",
       "lon: double\n",
       "base: string"
      ]
     },
     "execution_count": 54,
     "metadata": {},
     "output_type": "execute_result"
    }
   ],
   "source": [
    "# read from csv\n",
    "csv_table = csv.read_csv(\n",
    "        \"uber-raw-data-sep14.csv.gz\",\n",
    "        convert_options=csv.ConvertOptions(\n",
    "            timestamp_parsers=[\"%m/%d/%Y %H:%M:%S\"],\n",
    "        ),\n",
    "    ).rename_columns([\"date_time\", \"lat\", \"lon\", \"base\"])\n",
    "csv_table.schema"
   ]
  },
  {
   "cell_type": "code",
   "execution_count": 55,
   "id": "c6b0ac08-ae4e-4f30-9bcf-e2e1fe5959bd",
   "metadata": {},
   "outputs": [
    {
     "data": {
      "text/plain": [
       "date_time: timestamp[ms]\n",
       "lat: double\n",
       "lon: double\n",
       "base: string"
      ]
     },
     "execution_count": 55,
     "metadata": {},
     "output_type": "execute_result"
    }
   ],
   "source": [
    "# read from parque \n",
    "parque_table = pq.read_table('sample_dataset')\n",
    "# # explicitly define columns\n",
    "# parque_table = pq.read_table('sample_dataset',columns=['date_time', 'lat', 'lon'])\n",
    "parque_table.schema"
   ]
  },
  {
   "cell_type": "code",
   "execution_count": null,
   "id": "41713258-387a-4def-acd7-7a40ef464ddd",
   "metadata": {},
   "outputs": [],
   "source": [
    "# # read from json\n",
    "# from pyarrow import json\n",
    "# # can not parse \"4444\" to float 4444, use walk aroud below\n",
    "# raw_schema = pa.schema([\n",
    "#     pa.field('d', pa.string())\n",
    "# ])\n",
    "# processed_schema = pa.schema([\n",
    "#     pa.field('d', pa.float32())\n",
    "# ])\n",
    "    \n",
    "# raw_table = pa.json.read_json('sample.json', parse_options=json.ParseOptions(explicit_schema=raw_schema))\n",
    "# table = raw_table.cast(processed_schema)"
   ]
  },
  {
   "cell_type": "markdown",
   "id": "e56ae6ec-1bd2-4e9d-819d-cbb727098c41",
   "metadata": {},
   "source": [
    "## Write"
   ]
  },
  {
   "cell_type": "code",
   "execution_count": 56,
   "id": "c85235c4-45a0-4180-b7de-6bacf57ed864",
   "metadata": {},
   "outputs": [],
   "source": [
    "# read multiple files, dataset read\n",
    "dataset = pq.ParquetDataset('sample_dataset')\n",
    "table = dataset.read()\n",
    "# OR a short cut\n",
    "table = pq.read_table('sample_dataset')"
   ]
  },
  {
   "cell_type": "markdown",
   "id": "efed9af8-4ba2-43ed-b720-78ea28d2b75e",
   "metadata": {},
   "source": [
    "# duckdb/pyarrow Examples"
   ]
  },
  {
   "cell_type": "code",
   "execution_count": 57,
   "id": "993c1679-c82a-4579-b6cc-e64675d58aa0",
   "metadata": {},
   "outputs": [
    {
     "data": {
      "text/plain": [
       "['voltrondata-labs-datasets/nyc-taxi/year=2022/month=2/part-0.parquet']"
      ]
     },
     "execution_count": 57,
     "metadata": {},
     "output_type": "execute_result"
    }
   ],
   "source": [
    "# read from remote storage like s3, nyc-taxi\n",
    "dataset = ds.dataset(\"s3://voltrondata-labs-datasets/nyc-taxi/year=2022/month=2\")\n",
    "dataset.files"
   ]
  },
  {
   "cell_type": "code",
   "execution_count": 58,
   "id": "c6ee0747-c27e-44d6-ab1e-2d923a5456cb",
   "metadata": {},
   "outputs": [],
   "source": [
    "# convert to pyarrow.Table\n",
    "table=dataset.to_table()"
   ]
  },
  {
   "cell_type": "code",
   "execution_count": 59,
   "id": "b7253d43-9822-41f3-88c7-cf150a2a9649",
   "metadata": {},
   "outputs": [
    {
     "data": {
      "text/plain": [
       "vendor_name: string\n",
       "pickup_datetime: timestamp[ms]\n",
       "dropoff_datetime: timestamp[ms]\n",
       "passenger_count: int64\n",
       "trip_distance: double\n",
       "pickup_longitude: double\n",
       "pickup_latitude: double\n",
       "rate_code: string\n",
       "store_and_fwd: string\n",
       "dropoff_longitude: double\n",
       "dropoff_latitude: double\n",
       "payment_type: string\n",
       "fare_amount: double\n",
       "extra: double\n",
       "mta_tax: double\n",
       "tip_amount: double\n",
       "tolls_amount: double\n",
       "total_amount: double\n",
       "improvement_surcharge: double\n",
       "congestion_surcharge: double\n",
       "pickup_location_id: int64\n",
       "dropoff_location_id: int64"
      ]
     },
     "execution_count": 59,
     "metadata": {},
     "output_type": "execute_result"
    }
   ],
   "source": [
    "# check table schema\n",
    "table.schema"
   ]
  },
  {
   "cell_type": "code",
   "execution_count": 60,
   "id": "ebc485fa-547d-4084-a4cb-9ab1ae3449e5",
   "metadata": {},
   "outputs": [
    {
     "data": {
      "text/plain": [
       "(2979367, 22)"
      ]
     },
     "execution_count": 60,
     "metadata": {},
     "output_type": "execute_result"
    }
   ],
   "source": [
    "# check table shape\n",
    "table.shape"
   ]
  },
  {
   "cell_type": "code",
   "execution_count": 31,
   "id": "de0c0dd7-453a-46ba-8a7d-841789e03e02",
   "metadata": {},
   "outputs": [],
   "source": [
    "# query with duckdb\n",
    "rel = duckdb.from_arrow(table)\n",
    "sql = \"\"\"\n",
    "select *,\n",
    "date_trunc('day', pickup_datetime) as pickup_date, \n",
    "date_part('year', pickup_datetime) as year,\n",
    "date_part('month', pickup_datetime) as month,\n",
    "date_part('day', pickup_datetime) as day,\n",
    "EXTRACT(DOW FROM pickup_datetime) AS weekday,\n",
    "dropoff_datetime - pickup_datetime as duration\n",
    "from nyc_taxi_202202 \n",
    "\"\"\"\n",
    "rel_enriched=rel.query(\"nyc_taxi_202202\", sql)"
   ]
  },
  {
   "cell_type": "code",
   "execution_count": 35,
   "id": "00bb423a-22a1-4bfe-898c-9cc2d41ed231",
   "metadata": {},
   "outputs": [
    {
     "data": {
      "text/html": [
       "<div>\n",
       "<style scoped>\n",
       "    .dataframe tbody tr th:only-of-type {\n",
       "        vertical-align: middle;\n",
       "    }\n",
       "\n",
       "    .dataframe tbody tr th {\n",
       "        vertical-align: top;\n",
       "    }\n",
       "\n",
       "    .dataframe thead th {\n",
       "        text-align: right;\n",
       "    }\n",
       "</style>\n",
       "<table border=\"1\" class=\"dataframe\">\n",
       "  <thead>\n",
       "    <tr style=\"text-align: right;\">\n",
       "      <th></th>\n",
       "      <th>vendor_name</th>\n",
       "      <th>pickup_datetime</th>\n",
       "      <th>dropoff_datetime</th>\n",
       "      <th>passenger_count</th>\n",
       "      <th>trip_distance</th>\n",
       "      <th>pickup_longitude</th>\n",
       "      <th>pickup_latitude</th>\n",
       "      <th>rate_code</th>\n",
       "      <th>store_and_fwd</th>\n",
       "      <th>dropoff_longitude</th>\n",
       "      <th>...</th>\n",
       "      <th>improvement_surcharge</th>\n",
       "      <th>congestion_surcharge</th>\n",
       "      <th>pickup_location_id</th>\n",
       "      <th>dropoff_location_id</th>\n",
       "      <th>pickup_date</th>\n",
       "      <th>year</th>\n",
       "      <th>month</th>\n",
       "      <th>day</th>\n",
       "      <th>weekday</th>\n",
       "      <th>duration</th>\n",
       "    </tr>\n",
       "  </thead>\n",
       "  <tbody>\n",
       "    <tr>\n",
       "      <th>0</th>\n",
       "      <td>VTS</td>\n",
       "      <td>2022-02-02 06:48:20</td>\n",
       "      <td>2022-02-02 07:12:35</td>\n",
       "      <td>1.0</td>\n",
       "      <td>18.76</td>\n",
       "      <td>NaN</td>\n",
       "      <td>NaN</td>\n",
       "      <td>JFK</td>\n",
       "      <td>No</td>\n",
       "      <td>NaN</td>\n",
       "      <td>...</td>\n",
       "      <td>0.3</td>\n",
       "      <td>2.5</td>\n",
       "      <td>262</td>\n",
       "      <td>132</td>\n",
       "      <td>2022-02-02</td>\n",
       "      <td>2022</td>\n",
       "      <td>2</td>\n",
       "      <td>2</td>\n",
       "      <td>3</td>\n",
       "      <td>0 days 00:24:15</td>\n",
       "    </tr>\n",
       "    <tr>\n",
       "      <th>1</th>\n",
       "      <td>VTS</td>\n",
       "      <td>2022-02-02 06:42:59</td>\n",
       "      <td>2022-02-02 06:55:06</td>\n",
       "      <td>1.0</td>\n",
       "      <td>3.11</td>\n",
       "      <td>NaN</td>\n",
       "      <td>NaN</td>\n",
       "      <td>Standard rate</td>\n",
       "      <td>No</td>\n",
       "      <td>NaN</td>\n",
       "      <td>...</td>\n",
       "      <td>0.3</td>\n",
       "      <td>2.5</td>\n",
       "      <td>263</td>\n",
       "      <td>137</td>\n",
       "      <td>2022-02-02</td>\n",
       "      <td>2022</td>\n",
       "      <td>2</td>\n",
       "      <td>2</td>\n",
       "      <td>3</td>\n",
       "      <td>0 days 00:12:07</td>\n",
       "    </tr>\n",
       "    <tr>\n",
       "      <th>2</th>\n",
       "      <td>VTS</td>\n",
       "      <td>2022-02-02 06:58:49</td>\n",
       "      <td>2022-02-02 07:04:46</td>\n",
       "      <td>1.0</td>\n",
       "      <td>1.41</td>\n",
       "      <td>NaN</td>\n",
       "      <td>NaN</td>\n",
       "      <td>Standard rate</td>\n",
       "      <td>No</td>\n",
       "      <td>NaN</td>\n",
       "      <td>...</td>\n",
       "      <td>0.3</td>\n",
       "      <td>2.5</td>\n",
       "      <td>233</td>\n",
       "      <td>161</td>\n",
       "      <td>2022-02-02</td>\n",
       "      <td>2022</td>\n",
       "      <td>2</td>\n",
       "      <td>2</td>\n",
       "      <td>3</td>\n",
       "      <td>0 days 00:05:57</td>\n",
       "    </tr>\n",
       "    <tr>\n",
       "      <th>3</th>\n",
       "      <td>CMT</td>\n",
       "      <td>2022-02-02 06:22:57</td>\n",
       "      <td>2022-02-02 06:46:17</td>\n",
       "      <td>1.0</td>\n",
       "      <td>6.90</td>\n",
       "      <td>NaN</td>\n",
       "      <td>NaN</td>\n",
       "      <td>Standard rate</td>\n",
       "      <td>No</td>\n",
       "      <td>NaN</td>\n",
       "      <td>...</td>\n",
       "      <td>0.3</td>\n",
       "      <td>2.5</td>\n",
       "      <td>238</td>\n",
       "      <td>144</td>\n",
       "      <td>2022-02-02</td>\n",
       "      <td>2022</td>\n",
       "      <td>2</td>\n",
       "      <td>2</td>\n",
       "      <td>3</td>\n",
       "      <td>0 days 00:23:20</td>\n",
       "    </tr>\n",
       "    <tr>\n",
       "      <th>4</th>\n",
       "      <td>CMT</td>\n",
       "      <td>2022-02-02 06:48:08</td>\n",
       "      <td>2022-02-02 06:56:53</td>\n",
       "      <td>1.0</td>\n",
       "      <td>2.10</td>\n",
       "      <td>NaN</td>\n",
       "      <td>NaN</td>\n",
       "      <td>Standard rate</td>\n",
       "      <td>No</td>\n",
       "      <td>NaN</td>\n",
       "      <td>...</td>\n",
       "      <td>0.3</td>\n",
       "      <td>2.5</td>\n",
       "      <td>144</td>\n",
       "      <td>186</td>\n",
       "      <td>2022-02-02</td>\n",
       "      <td>2022</td>\n",
       "      <td>2</td>\n",
       "      <td>2</td>\n",
       "      <td>3</td>\n",
       "      <td>0 days 00:08:45</td>\n",
       "    </tr>\n",
       "  </tbody>\n",
       "</table>\n",
       "<p>5 rows × 28 columns</p>\n",
       "</div>"
      ],
      "text/plain": [
       "  vendor_name     pickup_datetime    dropoff_datetime  passenger_count  \\\n",
       "0         VTS 2022-02-02 06:48:20 2022-02-02 07:12:35              1.0   \n",
       "1         VTS 2022-02-02 06:42:59 2022-02-02 06:55:06              1.0   \n",
       "2         VTS 2022-02-02 06:58:49 2022-02-02 07:04:46              1.0   \n",
       "3         CMT 2022-02-02 06:22:57 2022-02-02 06:46:17              1.0   \n",
       "4         CMT 2022-02-02 06:48:08 2022-02-02 06:56:53              1.0   \n",
       "\n",
       "   trip_distance  pickup_longitude  pickup_latitude      rate_code  \\\n",
       "0          18.76               NaN              NaN            JFK   \n",
       "1           3.11               NaN              NaN  Standard rate   \n",
       "2           1.41               NaN              NaN  Standard rate   \n",
       "3           6.90               NaN              NaN  Standard rate   \n",
       "4           2.10               NaN              NaN  Standard rate   \n",
       "\n",
       "  store_and_fwd  dropoff_longitude  ...  improvement_surcharge  \\\n",
       "0            No                NaN  ...                    0.3   \n",
       "1            No                NaN  ...                    0.3   \n",
       "2            No                NaN  ...                    0.3   \n",
       "3            No                NaN  ...                    0.3   \n",
       "4            No                NaN  ...                    0.3   \n",
       "\n",
       "  congestion_surcharge  pickup_location_id  dropoff_location_id  pickup_date  \\\n",
       "0                  2.5                 262                  132   2022-02-02   \n",
       "1                  2.5                 263                  137   2022-02-02   \n",
       "2                  2.5                 233                  161   2022-02-02   \n",
       "3                  2.5                 238                  144   2022-02-02   \n",
       "4                  2.5                 144                  186   2022-02-02   \n",
       "\n",
       "   year  month  day  weekday        duration  \n",
       "0  2022      2    2        3 0 days 00:24:15  \n",
       "1  2022      2    2        3 0 days 00:12:07  \n",
       "2  2022      2    2        3 0 days 00:05:57  \n",
       "3  2022      2    2        3 0 days 00:23:20  \n",
       "4  2022      2    2        3 0 days 00:08:45  \n",
       "\n",
       "[5 rows x 28 columns]"
      ]
     },
     "execution_count": 35,
     "metadata": {},
     "output_type": "execute_result"
    }
   ],
   "source": [
    "rel_enriched.fetchdf().head()"
   ]
  },
  {
   "cell_type": "code",
   "execution_count": 34,
   "id": "371d7650-8111-4518-94d2-fcd3f3c283d1",
   "metadata": {},
   "outputs": [
    {
     "data": {
      "text/html": [
       "<div>\n",
       "<style scoped>\n",
       "    .dataframe tbody tr th:only-of-type {\n",
       "        vertical-align: middle;\n",
       "    }\n",
       "\n",
       "    .dataframe tbody tr th {\n",
       "        vertical-align: top;\n",
       "    }\n",
       "\n",
       "    .dataframe thead th {\n",
       "        text-align: right;\n",
       "    }\n",
       "</style>\n",
       "<table border=\"1\" class=\"dataframe\">\n",
       "  <thead>\n",
       "    <tr style=\"text-align: right;\">\n",
       "      <th></th>\n",
       "      <th>day</th>\n",
       "      <th>passenger_count</th>\n",
       "    </tr>\n",
       "  </thead>\n",
       "  <tbody>\n",
       "    <tr>\n",
       "      <th>0</th>\n",
       "      <td>1</td>\n",
       "      <td>119797.0</td>\n",
       "    </tr>\n",
       "    <tr>\n",
       "      <th>1</th>\n",
       "      <td>2</td>\n",
       "      <td>119151.0</td>\n",
       "    </tr>\n",
       "    <tr>\n",
       "      <th>2</th>\n",
       "      <td>3</td>\n",
       "      <td>134026.0</td>\n",
       "    </tr>\n",
       "    <tr>\n",
       "      <th>3</th>\n",
       "      <td>4</td>\n",
       "      <td>145515.0</td>\n",
       "    </tr>\n",
       "    <tr>\n",
       "      <th>4</th>\n",
       "      <td>5</td>\n",
       "      <td>161795.0</td>\n",
       "    </tr>\n",
       "    <tr>\n",
       "      <th>5</th>\n",
       "      <td>6</td>\n",
       "      <td>122389.0</td>\n",
       "    </tr>\n",
       "    <tr>\n",
       "      <th>6</th>\n",
       "      <td>7</td>\n",
       "      <td>115354.0</td>\n",
       "    </tr>\n",
       "    <tr>\n",
       "      <th>7</th>\n",
       "      <td>8</td>\n",
       "      <td>133031.0</td>\n",
       "    </tr>\n",
       "    <tr>\n",
       "      <th>8</th>\n",
       "      <td>9</td>\n",
       "      <td>137409.0</td>\n",
       "    </tr>\n",
       "    <tr>\n",
       "      <th>9</th>\n",
       "      <td>10</td>\n",
       "      <td>146735.0</td>\n",
       "    </tr>\n",
       "    <tr>\n",
       "      <th>10</th>\n",
       "      <td>11</td>\n",
       "      <td>158116.0</td>\n",
       "    </tr>\n",
       "    <tr>\n",
       "      <th>11</th>\n",
       "      <td>12</td>\n",
       "      <td>169390.0</td>\n",
       "    </tr>\n",
       "    <tr>\n",
       "      <th>12</th>\n",
       "      <td>13</td>\n",
       "      <td>127585.0</td>\n",
       "    </tr>\n",
       "    <tr>\n",
       "      <th>13</th>\n",
       "      <td>14</td>\n",
       "      <td>145291.0</td>\n",
       "    </tr>\n",
       "    <tr>\n",
       "      <th>14</th>\n",
       "      <td>15</td>\n",
       "      <td>142548.0</td>\n",
       "    </tr>\n",
       "    <tr>\n",
       "      <th>15</th>\n",
       "      <td>16</td>\n",
       "      <td>144272.0</td>\n",
       "    </tr>\n",
       "    <tr>\n",
       "      <th>16</th>\n",
       "      <td>17</td>\n",
       "      <td>148096.0</td>\n",
       "    </tr>\n",
       "    <tr>\n",
       "      <th>17</th>\n",
       "      <td>18</td>\n",
       "      <td>156851.0</td>\n",
       "    </tr>\n",
       "    <tr>\n",
       "      <th>18</th>\n",
       "      <td>19</td>\n",
       "      <td>165049.0</td>\n",
       "    </tr>\n",
       "    <tr>\n",
       "      <th>19</th>\n",
       "      <td>20</td>\n",
       "      <td>137257.0</td>\n",
       "    </tr>\n",
       "    <tr>\n",
       "      <th>20</th>\n",
       "      <td>21</td>\n",
       "      <td>120828.0</td>\n",
       "    </tr>\n",
       "    <tr>\n",
       "      <th>21</th>\n",
       "      <td>22</td>\n",
       "      <td>135844.0</td>\n",
       "    </tr>\n",
       "    <tr>\n",
       "      <th>22</th>\n",
       "      <td>23</td>\n",
       "      <td>149393.0</td>\n",
       "    </tr>\n",
       "    <tr>\n",
       "      <th>23</th>\n",
       "      <td>24</td>\n",
       "      <td>159530.0</td>\n",
       "    </tr>\n",
       "    <tr>\n",
       "      <th>24</th>\n",
       "      <td>25</td>\n",
       "      <td>161150.0</td>\n",
       "    </tr>\n",
       "    <tr>\n",
       "      <th>25</th>\n",
       "      <td>26</td>\n",
       "      <td>174158.0</td>\n",
       "    </tr>\n",
       "    <tr>\n",
       "      <th>26</th>\n",
       "      <td>27</td>\n",
       "      <td>141339.0</td>\n",
       "    </tr>\n",
       "    <tr>\n",
       "      <th>27</th>\n",
       "      <td>28</td>\n",
       "      <td>134105.0</td>\n",
       "    </tr>\n",
       "  </tbody>\n",
       "</table>\n",
       "</div>"
      ],
      "text/plain": [
       "    day  passenger_count\n",
       "0     1         119797.0\n",
       "1     2         119151.0\n",
       "2     3         134026.0\n",
       "3     4         145515.0\n",
       "4     5         161795.0\n",
       "5     6         122389.0\n",
       "6     7         115354.0\n",
       "7     8         133031.0\n",
       "8     9         137409.0\n",
       "9    10         146735.0\n",
       "10   11         158116.0\n",
       "11   12         169390.0\n",
       "12   13         127585.0\n",
       "13   14         145291.0\n",
       "14   15         142548.0\n",
       "15   16         144272.0\n",
       "16   17         148096.0\n",
       "17   18         156851.0\n",
       "18   19         165049.0\n",
       "19   20         137257.0\n",
       "20   21         120828.0\n",
       "21   22         135844.0\n",
       "22   23         149393.0\n",
       "23   24         159530.0\n",
       "24   25         161150.0\n",
       "25   26         174158.0\n",
       "26   27         141339.0\n",
       "27   28         134105.0"
      ]
     },
     "execution_count": 34,
     "metadata": {},
     "output_type": "execute_result"
    }
   ],
   "source": [
    "sql2 = \"\"\"\n",
    "select day, sum(passenger_count) as passenger_count\n",
    "from nyc_taxi_202202_enriched\n",
    "group by 1\n",
    "\"\"\"\n",
    "rel_enriched.query(\"nyc_taxi_202202_enriched\", sql2).fetchdf()"
   ]
  },
  {
   "cell_type": "markdown",
   "id": "5ad29474-8401-448c-be96-e39634312c64",
   "metadata": {},
   "source": [
    "## Write to a dataset"
   ]
  },
  {
   "cell_type": "code",
   "execution_count": null,
   "id": "4fb77b85-6d24-499b-a8f5-2b85b3fbc24a",
   "metadata": {},
   "outputs": [],
   "source": [
    "# write pyarrow.Table into parque files\n",
    "ds.write_dataset(parque_table, \"sample_dataset\", format=\"parquet\")\n",
    "# OR"
   ]
  },
  {
   "cell_type": "code",
   "execution_count": null,
   "id": "80d10a47-1ccd-4b76-bc46-a69d92c7fbf3",
   "metadata": {},
   "outputs": [],
   "source": [
    "output_dir = 'sample_dataset'\n",
    "pa.parquet.write_to_dataset(\n",
    "    table=parque_table,\n",
    "    root_path=output_dir,\n",
    "    filesystem=None,  # Use None for the default local filesystem\n",
    "    partition_cols=None,  # Optional: Specify partition columns if needed\n",
    ")"
   ]
  },
  {
   "cell_type": "markdown",
   "id": "0e6070f6-d1ce-485e-96c3-5266496b0a28",
   "metadata": {},
   "source": [
    "# Other duckdb basic"
   ]
  },
  {
   "cell_type": "code",
   "execution_count": 48,
   "id": "b751cba4-0aab-454f-b822-2f859e0cdb41",
   "metadata": {},
   "outputs": [
    {
     "data": {
      "text/plain": [
       "(40.73922135729234, -73.97181687636774)"
      ]
     },
     "execution_count": 48,
     "metadata": {},
     "output_type": "execute_result"
    }
   ],
   "source": [
    "# from pyarrow table\n",
    "pa_table = csv.read_csv(\n",
    "        \"uber-raw-data-sep14.csv.gz\",\n",
    "        convert_options=csv.ConvertOptions(\n",
    "            timestamp_parsers=[\"%m/%d/%Y %H:%M:%S\"],\n",
    "        ),\n",
    "    ).rename_columns([\"date_time\", \"lat\", \"lon\", \"base\"])\n",
    "\n",
    "# relation from pyarrow table\n",
    "rel = duckdb.from_arrow(pa_table)\n",
    "# fetchone, return tuple\n",
    "# the first parameter gives the rel object a view name so we can refer to it in queries\n",
    "rel.query(\"uber_raw\", \"SELECT AVG(lat) as avg_lat, AVG(lon) as avg_lon FROM uber_raw\").fetchone()"
   ]
  },
  {
   "cell_type": "code",
   "execution_count": 40,
   "id": "3fc37521-34df-44fd-b447-a9d73f855a96",
   "metadata": {},
   "outputs": [
    {
     "data": {
      "text/plain": [
       "[(datetime.datetime(2014, 9, 1, 0, 1), 40.2201, -74.0021, 'B02512'),\n",
       " (datetime.datetime(2014, 9, 1, 0, 1), 40.75, -74.0027, 'B02512'),\n",
       " (datetime.datetime(2014, 9, 1, 0, 3), 40.7559, -73.9864, 'B02512'),\n",
       " (datetime.datetime(2014, 9, 1, 0, 6), 40.745, -73.9889, 'B02512'),\n",
       " (datetime.datetime(2014, 9, 1, 0, 11), 40.8145, -73.9444, 'B02512'),\n",
       " (datetime.datetime(2014, 9, 1, 0, 12), 40.6735, -73.9918, 'B02512'),\n",
       " (datetime.datetime(2014, 9, 1, 0, 15), 40.7471, -73.6472, 'B02512'),\n",
       " (datetime.datetime(2014, 9, 1, 0, 16), 40.6613, -74.2691, 'B02512'),\n",
       " (datetime.datetime(2014, 9, 1, 0, 32), 40.3745, -73.9999, 'B02512'),\n",
       " (datetime.datetime(2014, 9, 1, 0, 33), 40.7633, -73.9773, 'B02512')]"
      ]
     },
     "execution_count": 40,
     "metadata": {},
     "output_type": "execute_result"
    }
   ],
   "source": [
    "# fetchall return a list of tuples\n",
    "rel.query(\"uber_raw\", \"SELECT * FROM uber_raw limit 10\").fetchall()"
   ]
  },
  {
   "cell_type": "code",
   "execution_count": 41,
   "id": "4bf4967c-fef0-487e-9494-d7d054261821",
   "metadata": {},
   "outputs": [
    {
     "data": {
      "text/html": [
       "<div>\n",
       "<style scoped>\n",
       "    .dataframe tbody tr th:only-of-type {\n",
       "        vertical-align: middle;\n",
       "    }\n",
       "\n",
       "    .dataframe tbody tr th {\n",
       "        vertical-align: top;\n",
       "    }\n",
       "\n",
       "    .dataframe thead th {\n",
       "        text-align: right;\n",
       "    }\n",
       "</style>\n",
       "<table border=\"1\" class=\"dataframe\">\n",
       "  <thead>\n",
       "    <tr style=\"text-align: right;\">\n",
       "      <th></th>\n",
       "      <th>date_time</th>\n",
       "      <th>lat</th>\n",
       "      <th>lon</th>\n",
       "      <th>base</th>\n",
       "      <th>hr_id</th>\n",
       "    </tr>\n",
       "  </thead>\n",
       "  <tbody>\n",
       "    <tr>\n",
       "      <th>0</th>\n",
       "      <td>2014-09-01 00:01:00</td>\n",
       "      <td>40.2201</td>\n",
       "      <td>-74.0021</td>\n",
       "      <td>B02512</td>\n",
       "      <td>0</td>\n",
       "    </tr>\n",
       "    <tr>\n",
       "      <th>1</th>\n",
       "      <td>2014-09-01 00:01:00</td>\n",
       "      <td>40.7500</td>\n",
       "      <td>-74.0027</td>\n",
       "      <td>B02512</td>\n",
       "      <td>0</td>\n",
       "    </tr>\n",
       "    <tr>\n",
       "      <th>2</th>\n",
       "      <td>2014-09-01 00:03:00</td>\n",
       "      <td>40.7559</td>\n",
       "      <td>-73.9864</td>\n",
       "      <td>B02512</td>\n",
       "      <td>0</td>\n",
       "    </tr>\n",
       "    <tr>\n",
       "      <th>3</th>\n",
       "      <td>2014-09-01 00:06:00</td>\n",
       "      <td>40.7450</td>\n",
       "      <td>-73.9889</td>\n",
       "      <td>B02512</td>\n",
       "      <td>0</td>\n",
       "    </tr>\n",
       "    <tr>\n",
       "      <th>4</th>\n",
       "      <td>2014-09-01 00:11:00</td>\n",
       "      <td>40.8145</td>\n",
       "      <td>-73.9444</td>\n",
       "      <td>B02512</td>\n",
       "      <td>0</td>\n",
       "    </tr>\n",
       "    <tr>\n",
       "      <th>5</th>\n",
       "      <td>2014-09-01 00:12:00</td>\n",
       "      <td>40.6735</td>\n",
       "      <td>-73.9918</td>\n",
       "      <td>B02512</td>\n",
       "      <td>0</td>\n",
       "    </tr>\n",
       "    <tr>\n",
       "      <th>6</th>\n",
       "      <td>2014-09-01 00:15:00</td>\n",
       "      <td>40.7471</td>\n",
       "      <td>-73.6472</td>\n",
       "      <td>B02512</td>\n",
       "      <td>0</td>\n",
       "    </tr>\n",
       "    <tr>\n",
       "      <th>7</th>\n",
       "      <td>2014-09-01 00:16:00</td>\n",
       "      <td>40.6613</td>\n",
       "      <td>-74.2691</td>\n",
       "      <td>B02512</td>\n",
       "      <td>0</td>\n",
       "    </tr>\n",
       "    <tr>\n",
       "      <th>8</th>\n",
       "      <td>2014-09-01 00:32:00</td>\n",
       "      <td>40.3745</td>\n",
       "      <td>-73.9999</td>\n",
       "      <td>B02512</td>\n",
       "      <td>0</td>\n",
       "    </tr>\n",
       "    <tr>\n",
       "      <th>9</th>\n",
       "      <td>2014-09-01 00:33:00</td>\n",
       "      <td>40.7633</td>\n",
       "      <td>-73.9773</td>\n",
       "      <td>B02512</td>\n",
       "      <td>0</td>\n",
       "    </tr>\n",
       "  </tbody>\n",
       "</table>\n",
       "</div>"
      ],
      "text/plain": [
       "            date_time      lat      lon    base  hr_id\n",
       "0 2014-09-01 00:01:00  40.2201 -74.0021  B02512      0\n",
       "1 2014-09-01 00:01:00  40.7500 -74.0027  B02512      0\n",
       "2 2014-09-01 00:03:00  40.7559 -73.9864  B02512      0\n",
       "3 2014-09-01 00:06:00  40.7450 -73.9889  B02512      0\n",
       "4 2014-09-01 00:11:00  40.8145 -73.9444  B02512      0\n",
       "5 2014-09-01 00:12:00  40.6735 -73.9918  B02512      0\n",
       "6 2014-09-01 00:15:00  40.7471 -73.6472  B02512      0\n",
       "7 2014-09-01 00:16:00  40.6613 -74.2691  B02512      0\n",
       "8 2014-09-01 00:32:00  40.3745 -73.9999  B02512      0\n",
       "9 2014-09-01 00:33:00  40.7633 -73.9773  B02512      0"
      ]
     },
     "execution_count": 41,
     "metadata": {},
     "output_type": "execute_result"
    }
   ],
   "source": [
    "# query result to dataframe\n",
    "df=rel.query(\"uber_raw\", \"SELECT *, hour(date_time) as hr_id FROM uber_raw limit 10\").to_df()\n",
    "# fetchdf() is a shortcut of to_df, they return same results\n",
    "df=rel.query(\"uber_raw\", \"SELECT *, hour(date_time) as hr_id FROM uber_raw limit 10\").fetchdf()\n",
    "df"
   ]
  },
  {
   "cell_type": "code",
   "execution_count": 66,
   "id": "b0386dde-656f-44dc-a645-b0e5396d521d",
   "metadata": {},
   "outputs": [],
   "source": [
    "# query with parameter:hr\n",
    "hr= 10\n",
    "query = f'SELECT \"date_time\", \"lat\", \"lon\" FROM uber_raw where hour(\"date_time\") >= {hr} and hour(\"date_time\") < {hr} + 1 limit 10'\n",
    "rel_hourly=rel.query(\"uber_raw\", query)"
   ]
  },
  {
   "cell_type": "code",
   "execution_count": 67,
   "id": "61b01742-fba8-4933-8dcc-015970598549",
   "metadata": {},
   "outputs": [
    {
     "data": {
      "text/plain": [
       "date_time: timestamp[s]\n",
       "lat: double\n",
       "lon: double"
      ]
     },
     "execution_count": 67,
     "metadata": {},
     "output_type": "execute_result"
    }
   ],
   "source": [
    "# to arraw table\n",
    "result_as_arrow = rel_hourly.arrow()\n",
    "result_as_arrow.schema"
   ]
  },
  {
   "cell_type": "markdown",
   "id": "ecedde7f-eecc-4f58-8e3c-eecf3030cb1a",
   "metadata": {},
   "source": [
    "### Check https://github.com/duckdb/duckdb/blob/main/examples/python/duckdb-python.py for more"
   ]
  },
  {
   "cell_type": "markdown",
   "id": "1133982e-8621-4f59-b451-67c9e5cb3d33",
   "metadata": {},
   "source": [
    "# duckdb/pandas"
   ]
  },
  {
   "cell_type": "code",
   "execution_count": 47,
   "id": "0dfff03f-44e7-413b-af5a-a29744da3d66",
   "metadata": {},
   "outputs": [
    {
     "data": {
      "text/html": [
       "<div>\n",
       "<style scoped>\n",
       "    .dataframe tbody tr th:only-of-type {\n",
       "        vertical-align: middle;\n",
       "    }\n",
       "\n",
       "    .dataframe tbody tr th {\n",
       "        vertical-align: top;\n",
       "    }\n",
       "\n",
       "    .dataframe thead th {\n",
       "        text-align: right;\n",
       "    }\n",
       "</style>\n",
       "<table border=\"1\" class=\"dataframe\">\n",
       "  <thead>\n",
       "    <tr style=\"text-align: right;\">\n",
       "      <th></th>\n",
       "      <th>Date/Time</th>\n",
       "      <th>Lat</th>\n",
       "      <th>Lon</th>\n",
       "      <th>Base</th>\n",
       "      <th>hour_id</th>\n",
       "    </tr>\n",
       "  </thead>\n",
       "  <tbody>\n",
       "    <tr>\n",
       "      <th>0</th>\n",
       "      <td>2014-09-01 00:01:00</td>\n",
       "      <td>40.2201</td>\n",
       "      <td>-74.0021</td>\n",
       "      <td>B02512</td>\n",
       "      <td>0</td>\n",
       "    </tr>\n",
       "    <tr>\n",
       "      <th>1</th>\n",
       "      <td>2014-09-01 00:01:00</td>\n",
       "      <td>40.7500</td>\n",
       "      <td>-74.0027</td>\n",
       "      <td>B02512</td>\n",
       "      <td>0</td>\n",
       "    </tr>\n",
       "    <tr>\n",
       "      <th>2</th>\n",
       "      <td>2014-09-01 00:03:00</td>\n",
       "      <td>40.7559</td>\n",
       "      <td>-73.9864</td>\n",
       "      <td>B02512</td>\n",
       "      <td>0</td>\n",
       "    </tr>\n",
       "    <tr>\n",
       "      <th>3</th>\n",
       "      <td>2014-09-01 00:06:00</td>\n",
       "      <td>40.7450</td>\n",
       "      <td>-73.9889</td>\n",
       "      <td>B02512</td>\n",
       "      <td>0</td>\n",
       "    </tr>\n",
       "    <tr>\n",
       "      <th>4</th>\n",
       "      <td>2014-09-01 00:11:00</td>\n",
       "      <td>40.8145</td>\n",
       "      <td>-73.9444</td>\n",
       "      <td>B02512</td>\n",
       "      <td>0</td>\n",
       "    </tr>\n",
       "  </tbody>\n",
       "</table>\n",
       "</div>"
      ],
      "text/plain": [
       "            Date/Time      Lat      Lon    Base  hour_id\n",
       "0 2014-09-01 00:01:00  40.2201 -74.0021  B02512        0\n",
       "1 2014-09-01 00:01:00  40.7500 -74.0027  B02512        0\n",
       "2 2014-09-01 00:03:00  40.7559 -73.9864  B02512        0\n",
       "3 2014-09-01 00:06:00  40.7450 -73.9889  B02512        0\n",
       "4 2014-09-01 00:11:00  40.8145 -73.9444  B02512        0"
      ]
     },
     "execution_count": 47,
     "metadata": {},
     "output_type": "execute_result"
    }
   ],
   "source": [
    "# query dataframe directly\n",
    "df = pd.read_csv(\"uber-raw-data-sep14.csv.gz\")\n",
    "df[\"Date/Time\"] = pd.to_datetime(df[\"Date/Time\"])\n",
    "duckdb.query(\"\"\"SELECT *, hour(\"Date/Time\") as hour_id FROM df\"\"\").fetchdf().head()"
   ]
  }
 ],
 "metadata": {
  "kernelspec": {
   "display_name": "Python 3 (ipykernel)",
   "language": "python",
   "name": "python3"
  },
  "language_info": {
   "codemirror_mode": {
    "name": "ipython",
    "version": 3
   },
   "file_extension": ".py",
   "mimetype": "text/x-python",
   "name": "python",
   "nbconvert_exporter": "python",
   "pygments_lexer": "ipython3",
   "version": "3.11.3"
  }
 },
 "nbformat": 4,
 "nbformat_minor": 5
}
